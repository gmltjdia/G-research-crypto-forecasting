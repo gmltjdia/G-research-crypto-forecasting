{
  "nbformat": 4,
  "nbformat_minor": 0,
  "metadata": {
    "kernelspec": {
      "language": "python",
      "display_name": "Python 3",
      "name": "python3"
    },
    "language_info": {
      "name": "python",
      "version": "3.7.10",
      "mimetype": "text/x-python",
      "codemirror_mode": {
        "name": "ipython",
        "version": 3
      },
      "pygments_lexer": "ipython3",
      "nbconvert_exporter": "python",
      "file_extension": ".py"
    },
    "colab": {
      "name": "g-research-crypto-forecasting.ipynb",
      "provenance": [],
      "collapsed_sections": []
    },
    "accelerator": "GPU"
  },
  "cells": [
    {
      "cell_type": "markdown",
      "metadata": {
        "id": "PmykVkVEII0X"
      },
      "source": [
        "### G-Research Crypto Forecasting\n",
        " you'll use your machine learning expertise to forecast short term returns in 14 popular cryptocurrencies. \n",
        " \n",
        " a dataset of millions of rows of high-frequency market data dating back to 2018"
      ]
    },
    {
      "cell_type": "markdown",
      "metadata": {
        "id": "6qudwwyJII0b"
      },
      "source": [
        "#### Import dataset"
      ]
    },
    {
      "cell_type": "code",
      "metadata": {
        "colab": {
          "base_uri": "https://localhost:8080/"
        },
        "id": "QDlAEwenIoDB",
        "outputId": "c628f807-9913-48cb-f780-91919c180bd8"
      },
      "source": [
        "from google.colab import drive\n",
        "drive.mount('/content/drive')"
      ],
      "execution_count": 1,
      "outputs": [
        {
          "output_type": "stream",
          "name": "stdout",
          "text": [
            "Mounted at /content/drive\n"
          ]
        }
      ]
    },
    {
      "cell_type": "code",
      "metadata": {
        "execution": {
          "iopub.status.busy": "2021-12-06T08:05:48.171646Z",
          "iopub.execute_input": "2021-12-06T08:05:48.172243Z",
          "iopub.status.idle": "2021-12-06T08:06:47.834320Z",
          "shell.execute_reply.started": "2021-12-06T08:05:48.172126Z",
          "shell.execute_reply": "2021-12-06T08:06:47.833636Z"
        },
        "trusted": true,
        "id": "OnpXuPUEII0c"
      },
      "source": [
        "import pandas as pd\n",
        "import numpy as np\n",
        "from datetime import datetime\n",
        "path = '/content/drive/My Drive/Colab Notebooks/g-research-crypto/input/'\n",
        "crypto_df = pd.read_csv(path + 'train.csv')\n",
        "asset_details = pd.read_csv(path + 'asset_details.csv')"
      ],
      "execution_count": 2,
      "outputs": []
    },
    {
      "cell_type": "code",
      "metadata": {
        "execution": {
          "iopub.status.busy": "2021-12-06T08:07:47.717910Z",
          "iopub.execute_input": "2021-12-06T08:07:47.718202Z",
          "iopub.status.idle": "2021-12-06T08:07:47.734273Z",
          "shell.execute_reply.started": "2021-12-06T08:07:47.718172Z",
          "shell.execute_reply": "2021-12-06T08:07:47.733155Z"
        },
        "trusted": true,
        "colab": {
          "base_uri": "https://localhost:8080/",
          "height": 206
        },
        "id": "WcSS4FsfII0d",
        "outputId": "a7e69e37-1fac-4309-bca8-c8348514cba8"
      },
      "source": [
        "crypto_df.head(5)"
      ],
      "execution_count": 3,
      "outputs": [
        {
          "output_type": "execute_result",
          "data": {
            "text/html": [
              "<div>\n",
              "<style scoped>\n",
              "    .dataframe tbody tr th:only-of-type {\n",
              "        vertical-align: middle;\n",
              "    }\n",
              "\n",
              "    .dataframe tbody tr th {\n",
              "        vertical-align: top;\n",
              "    }\n",
              "\n",
              "    .dataframe thead th {\n",
              "        text-align: right;\n",
              "    }\n",
              "</style>\n",
              "<table border=\"1\" class=\"dataframe\">\n",
              "  <thead>\n",
              "    <tr style=\"text-align: right;\">\n",
              "      <th></th>\n",
              "      <th>timestamp</th>\n",
              "      <th>Asset_ID</th>\n",
              "      <th>Count</th>\n",
              "      <th>Open</th>\n",
              "      <th>High</th>\n",
              "      <th>Low</th>\n",
              "      <th>Close</th>\n",
              "      <th>Volume</th>\n",
              "      <th>VWAP</th>\n",
              "      <th>Target</th>\n",
              "    </tr>\n",
              "  </thead>\n",
              "  <tbody>\n",
              "    <tr>\n",
              "      <th>0</th>\n",
              "      <td>1514764860</td>\n",
              "      <td>2</td>\n",
              "      <td>40.0</td>\n",
              "      <td>2376.5800</td>\n",
              "      <td>2399.5000</td>\n",
              "      <td>2357.1400</td>\n",
              "      <td>2374.5900</td>\n",
              "      <td>19.233005</td>\n",
              "      <td>2373.116392</td>\n",
              "      <td>-0.004218</td>\n",
              "    </tr>\n",
              "    <tr>\n",
              "      <th>1</th>\n",
              "      <td>1514764860</td>\n",
              "      <td>0</td>\n",
              "      <td>5.0</td>\n",
              "      <td>8.5300</td>\n",
              "      <td>8.5300</td>\n",
              "      <td>8.5300</td>\n",
              "      <td>8.5300</td>\n",
              "      <td>78.380000</td>\n",
              "      <td>8.530000</td>\n",
              "      <td>-0.014399</td>\n",
              "    </tr>\n",
              "    <tr>\n",
              "      <th>2</th>\n",
              "      <td>1514764860</td>\n",
              "      <td>1</td>\n",
              "      <td>229.0</td>\n",
              "      <td>13835.1940</td>\n",
              "      <td>14013.8000</td>\n",
              "      <td>13666.1100</td>\n",
              "      <td>13850.1760</td>\n",
              "      <td>31.550062</td>\n",
              "      <td>13827.062093</td>\n",
              "      <td>-0.014643</td>\n",
              "    </tr>\n",
              "    <tr>\n",
              "      <th>3</th>\n",
              "      <td>1514764860</td>\n",
              "      <td>5</td>\n",
              "      <td>32.0</td>\n",
              "      <td>7.6596</td>\n",
              "      <td>7.6596</td>\n",
              "      <td>7.6567</td>\n",
              "      <td>7.6576</td>\n",
              "      <td>6626.713370</td>\n",
              "      <td>7.657713</td>\n",
              "      <td>-0.013922</td>\n",
              "    </tr>\n",
              "    <tr>\n",
              "      <th>4</th>\n",
              "      <td>1514764860</td>\n",
              "      <td>7</td>\n",
              "      <td>5.0</td>\n",
              "      <td>25.9200</td>\n",
              "      <td>25.9200</td>\n",
              "      <td>25.8740</td>\n",
              "      <td>25.8770</td>\n",
              "      <td>121.087310</td>\n",
              "      <td>25.891363</td>\n",
              "      <td>-0.008264</td>\n",
              "    </tr>\n",
              "  </tbody>\n",
              "</table>\n",
              "</div>"
            ],
            "text/plain": [
              "    timestamp  Asset_ID  Count  ...       Volume          VWAP    Target\n",
              "0  1514764860         2   40.0  ...    19.233005   2373.116392 -0.004218\n",
              "1  1514764860         0    5.0  ...    78.380000      8.530000 -0.014399\n",
              "2  1514764860         1  229.0  ...    31.550062  13827.062093 -0.014643\n",
              "3  1514764860         5   32.0  ...  6626.713370      7.657713 -0.013922\n",
              "4  1514764860         7    5.0  ...   121.087310     25.891363 -0.008264\n",
              "\n",
              "[5 rows x 10 columns]"
            ]
          },
          "metadata": {},
          "execution_count": 3
        }
      ]
    },
    {
      "cell_type": "code",
      "metadata": {
        "colab": {
          "base_uri": "https://localhost:8080/"
        },
        "id": "F3O7KfCZg3VM",
        "outputId": "9303b651-9cf8-47b6-ee12-2150be7fda1b"
      },
      "source": [
        "crypto_df.info()"
      ],
      "execution_count": 4,
      "outputs": [
        {
          "output_type": "stream",
          "name": "stdout",
          "text": [
            "<class 'pandas.core.frame.DataFrame'>\n",
            "RangeIndex: 24236806 entries, 0 to 24236805\n",
            "Data columns (total 10 columns):\n",
            " #   Column     Dtype  \n",
            "---  ------     -----  \n",
            " 0   timestamp  int64  \n",
            " 1   Asset_ID   int64  \n",
            " 2   Count      float64\n",
            " 3   Open       float64\n",
            " 4   High       float64\n",
            " 5   Low        float64\n",
            " 6   Close      float64\n",
            " 7   Volume     float64\n",
            " 8   VWAP       float64\n",
            " 9   Target     float64\n",
            "dtypes: float64(8), int64(2)\n",
            "memory usage: 1.8 GB\n"
          ]
        }
      ]
    },
    {
      "cell_type": "markdown",
      "metadata": {
        "id": "0Fx3iCnEKi3R"
      },
      "source": [
        "### Data features\n",
        "The data set includes these ten features and our job is to predict target which is residual log-return for the asset.\n",
        "- **timestamp**: All timestamps are returned as second Unix timestamps (the number of seconds elapsed since 1970-01-01 00:00:00.000 UTC). Timestamps in this dataset are multiple of 60, indicating minute-by-minute data.\n",
        "- **Asset_ID**: The asset ID corresponding to one of the crytocurrencies (e.g. Asset_ID = 1 for Bitcoin). The mapping from Asset_ID to crypto asset is contained in asset_details.csv.\n",
        "- **Count**: Total number of trades in the time interval (last minute).\n",
        "- **Open**: Opening price of the time interval (in USD).\n",
        "- **High**: Highest price reached during time interval (in USD).\n",
        "- **Low**: Lowest price reached during time interval (in USD).\n",
        "- **Close**: Closing price of the time interval (in USD).\n",
        "- **Volume**: Quantity of asset bought or sold, displayed in base currency USD.\n",
        "- **VWAP**: The average price of the asset over the time interval, weighted by  volume. VWAP is an aggregated form of trade data.\n",
        "- **Target**: Residual log-returns for the asset over a 15 minute horizon.\n",
        "\n",
        "With the given asset details file, we can view the asset information including asset_id, name and the weight of each asset used to weigh their relative importance in the evaluation metric. "
      ]
    },
    {
      "cell_type": "code",
      "metadata": {
        "colab": {
          "base_uri": "https://localhost:8080/",
          "height": 488
        },
        "id": "qKu6a6FiSHW0",
        "outputId": "2c61eeea-8e90-45fe-d4bc-51c1ecd1fc6e"
      },
      "source": [
        "asset_details"
      ],
      "execution_count": 5,
      "outputs": [
        {
          "output_type": "execute_result",
          "data": {
            "text/html": [
              "<div>\n",
              "<style scoped>\n",
              "    .dataframe tbody tr th:only-of-type {\n",
              "        vertical-align: middle;\n",
              "    }\n",
              "\n",
              "    .dataframe tbody tr th {\n",
              "        vertical-align: top;\n",
              "    }\n",
              "\n",
              "    .dataframe thead th {\n",
              "        text-align: right;\n",
              "    }\n",
              "</style>\n",
              "<table border=\"1\" class=\"dataframe\">\n",
              "  <thead>\n",
              "    <tr style=\"text-align: right;\">\n",
              "      <th></th>\n",
              "      <th>Asset_ID</th>\n",
              "      <th>Weight</th>\n",
              "      <th>Asset_Name</th>\n",
              "    </tr>\n",
              "  </thead>\n",
              "  <tbody>\n",
              "    <tr>\n",
              "      <th>0</th>\n",
              "      <td>2</td>\n",
              "      <td>2.397895</td>\n",
              "      <td>Bitcoin Cash</td>\n",
              "    </tr>\n",
              "    <tr>\n",
              "      <th>1</th>\n",
              "      <td>0</td>\n",
              "      <td>4.304065</td>\n",
              "      <td>Binance Coin</td>\n",
              "    </tr>\n",
              "    <tr>\n",
              "      <th>2</th>\n",
              "      <td>1</td>\n",
              "      <td>6.779922</td>\n",
              "      <td>Bitcoin</td>\n",
              "    </tr>\n",
              "    <tr>\n",
              "      <th>3</th>\n",
              "      <td>5</td>\n",
              "      <td>1.386294</td>\n",
              "      <td>EOS.IO</td>\n",
              "    </tr>\n",
              "    <tr>\n",
              "      <th>4</th>\n",
              "      <td>7</td>\n",
              "      <td>2.079442</td>\n",
              "      <td>Ethereum Classic</td>\n",
              "    </tr>\n",
              "    <tr>\n",
              "      <th>5</th>\n",
              "      <td>6</td>\n",
              "      <td>5.894403</td>\n",
              "      <td>Ethereum</td>\n",
              "    </tr>\n",
              "    <tr>\n",
              "      <th>6</th>\n",
              "      <td>9</td>\n",
              "      <td>2.397895</td>\n",
              "      <td>Litecoin</td>\n",
              "    </tr>\n",
              "    <tr>\n",
              "      <th>7</th>\n",
              "      <td>11</td>\n",
              "      <td>1.609438</td>\n",
              "      <td>Monero</td>\n",
              "    </tr>\n",
              "    <tr>\n",
              "      <th>8</th>\n",
              "      <td>13</td>\n",
              "      <td>1.791759</td>\n",
              "      <td>TRON</td>\n",
              "    </tr>\n",
              "    <tr>\n",
              "      <th>9</th>\n",
              "      <td>12</td>\n",
              "      <td>2.079442</td>\n",
              "      <td>Stellar</td>\n",
              "    </tr>\n",
              "    <tr>\n",
              "      <th>10</th>\n",
              "      <td>3</td>\n",
              "      <td>4.406719</td>\n",
              "      <td>Cardano</td>\n",
              "    </tr>\n",
              "    <tr>\n",
              "      <th>11</th>\n",
              "      <td>8</td>\n",
              "      <td>1.098612</td>\n",
              "      <td>IOTA</td>\n",
              "    </tr>\n",
              "    <tr>\n",
              "      <th>12</th>\n",
              "      <td>10</td>\n",
              "      <td>1.098612</td>\n",
              "      <td>Maker</td>\n",
              "    </tr>\n",
              "    <tr>\n",
              "      <th>13</th>\n",
              "      <td>4</td>\n",
              "      <td>3.555348</td>\n",
              "      <td>Dogecoin</td>\n",
              "    </tr>\n",
              "  </tbody>\n",
              "</table>\n",
              "</div>"
            ],
            "text/plain": [
              "    Asset_ID    Weight        Asset_Name\n",
              "0          2  2.397895      Bitcoin Cash\n",
              "1          0  4.304065      Binance Coin\n",
              "2          1  6.779922           Bitcoin\n",
              "3          5  1.386294            EOS.IO\n",
              "4          7  2.079442  Ethereum Classic\n",
              "5          6  5.894403          Ethereum\n",
              "6          9  2.397895          Litecoin\n",
              "7         11  1.609438            Monero\n",
              "8         13  1.791759              TRON\n",
              "9         12  2.079442           Stellar\n",
              "10         3  4.406719           Cardano\n",
              "11         8  1.098612              IOTA\n",
              "12        10  1.098612             Maker\n",
              "13         4  3.555348          Dogecoin"
            ]
          },
          "metadata": {},
          "execution_count": 5
        }
      ]
    },
    {
      "cell_type": "markdown",
      "metadata": {
        "id": "2hZ4Ey17II0d"
      },
      "source": [
        "### Pre-processing\n",
        "#### Dealing with missing data  \n",
        "\n"
      ]
    },
    {
      "cell_type": "code",
      "metadata": {
        "execution": {
          "iopub.status.busy": "2021-12-06T08:08:08.154328Z",
          "iopub.execute_input": "2021-12-06T08:08:08.155535Z",
          "iopub.status.idle": "2021-12-06T08:08:08.626970Z",
          "shell.execute_reply.started": "2021-12-06T08:08:08.155462Z",
          "shell.execute_reply": "2021-12-06T08:08:08.626009Z"
        },
        "trusted": true,
        "colab": {
          "base_uri": "https://localhost:8080/"
        },
        "id": "GG3DYcvlII0d",
        "outputId": "8165b01b-7ee6-4bd6-c9ef-61ae7623ad0e"
      },
      "source": [
        "# Check whether there is missing data in each column\n",
        "crypto_df.isnull().sum()"
      ],
      "execution_count": 6,
      "outputs": [
        {
          "output_type": "execute_result",
          "data": {
            "text/plain": [
              "timestamp         0\n",
              "Asset_ID          0\n",
              "Count             0\n",
              "Open              0\n",
              "High              0\n",
              "Low               0\n",
              "Close             0\n",
              "Volume            0\n",
              "VWAP              9\n",
              "Target       750338\n",
              "dtype: int64"
            ]
          },
          "metadata": {},
          "execution_count": 6
        }
      ]
    },
    {
      "cell_type": "code",
      "metadata": {
        "colab": {
          "base_uri": "https://localhost:8080/"
        },
        "id": "rQ_CmISyX0hT",
        "outputId": "04ee7918-6463-4a83-b4aa-be5d77f4d8cd"
      },
      "source": [
        "crypto_df[crypto_df['Asset_ID'] == 1]['Target'].mean()"
      ],
      "execution_count": 15,
      "outputs": [
        {
          "output_type": "execute_result",
          "data": {
            "text/plain": [
              "-1.5599925745642943e-06"
            ]
          },
          "metadata": {},
          "execution_count": 15
        }
      ]
    },
    {
      "cell_type": "code",
      "metadata": {
        "colab": {
          "base_uri": "https://localhost:8080/",
          "height": 131
        },
        "id": "jCnxz-1bXN_E",
        "outputId": "90397894-7379-406d-e1c6-67d8bef511f3"
      },
      "source": [
        "asset_id_list = list(crypto_df.Asset_ID.unique()) # unique asset_id\n",
        "\n",
        "for n in asset_id_list:\n",
        "  asset_mean = crypto_df[crypto_df['Asset_ID'] == n]['Target'].mean() # Get mean of target for each asset_id\n",
        "  print(asset_mean)\n",
        "  #crypto_df['Target'] = crypto_df.apply(lambda x: x['Target'] = asset_mean if x['Asset_ID'] == n)['Target']\n",
        "  #crypto_df.apply(lambda row: row['Target'] = asset_mean if row['Asset_ID'] == n)\n",
        "  crypto_df['Target'].apply(lambda row: asset_mean if row['Asset_ID'] == n)\n"
      ],
      "execution_count": 26,
      "outputs": [
        {
          "output_type": "error",
          "ename": "SyntaxError",
          "evalue": "ignored",
          "traceback": [
            "\u001b[0;36m  File \u001b[0;32m\"<ipython-input-26-55c05d5d2bb3>\"\u001b[0;36m, line \u001b[0;32m8\u001b[0m\n\u001b[0;31m    crypto_df['Target'].apply(lambda row: asset_mean if row['Asset_ID'] == n)\u001b[0m\n\u001b[0m                                                                            ^\u001b[0m\n\u001b[0;31mSyntaxError\u001b[0m\u001b[0;31m:\u001b[0m invalid syntax\n"
          ]
        }
      ]
    },
    {
      "cell_type": "code",
      "metadata": {
        "id": "PwC9mU4wfPkl"
      },
      "source": [
        "def asset_target_mean(Asset_ID, Target):\n",
        "  asset_id_list = list(crypto_df.Asset_ID.unique()) # unique asset_id\n",
        "  asset_mean_dict = {} # create a dictionary with asset_id and its target mean value\n",
        "  for n in asset_id_list:\n",
        "    asset_mean_dict[n] = crypto_df[crypto_df['Asset_ID'] == n]['Target'].mean()\n",
        "\n",
        "  if Target == None:\n",
        "    if Asset_ID == 2:\n",
        "      asset_mean = asset_mean_dict[2]\n",
        "  \n",
        "    elif Asset_ID == 0:\n",
        "      asset_mean = asset_mean_dict[0]\n",
        "  \n",
        "    elif Asset_ID == 1:\n",
        "      asset_mean = asset_mean_dict[1]\n",
        "\n",
        "    elif Asset_ID == 5:\n",
        "      asset_mean = asset_mean_dict[5]\n",
        "\n",
        "    elif Asset_ID == 7:\n",
        "      asset_mean = asset_mean_dict[7]\n",
        "\n",
        "    elif Asset_ID == 6:\n",
        "      asset_mean = asset_mean_dict[6]\n",
        "\n",
        "    elif Asset_ID == 9:\n",
        "      asset_mean = asset_mean_dict[9]\n",
        "\n",
        "    elif Asset_ID == 11:\n",
        "      asset_mean = asset_mean_dict[11]\n",
        "\n",
        "    elif Asset_ID == 13:\n",
        "      asset_mean = asset_mean_dict[13]\n",
        "\n",
        "    elif Asset_ID == 12:\n",
        "      asset_mean = asset_mean_dict[12]\n",
        "  \n",
        "    elif Asset_ID == 3:\n",
        "      asset_mean = asset_mean_dict[3]\n",
        "  \n",
        "    elif Asset_ID == 8:\n",
        "      asset_mean = asset_mean_dict[8]\n",
        "  \n",
        "    elif Asset_ID == 10:\n",
        "      asset_mean = asset_mean_dict[10]\n",
        "\n",
        "    elif Asset_ID == 4:\n",
        "      asset_mean = asset_mean_dict[4]\n",
        "  \n",
        "  return asset_mean\n"
      ],
      "execution_count": 12,
      "outputs": []
    },
    {
      "cell_type": "code",
      "metadata": {
        "colab": {
          "base_uri": "https://localhost:8080/",
          "height": 294
        },
        "id": "gvSAq3yDjoF3",
        "outputId": "55a3dcaf-5a3b-4e19-b8bd-7325314d3ef7"
      },
      "source": [
        "mong = crypto_df[crypto_df['Asset_ID'] == 10]\n",
        "mong['Target'] = mong[['Asset_ID', 'Target']].apply(lambda x : asset_target_mean(*x), axis=1)"
      ],
      "execution_count": 13,
      "outputs": [
        {
          "output_type": "error",
          "ename": "UnboundLocalError",
          "evalue": "ignored",
          "traceback": [
            "\u001b[0;31m---------------------------------------------------------------------------\u001b[0m",
            "\u001b[0;31mUnboundLocalError\u001b[0m                         Traceback (most recent call last)",
            "\u001b[0;32m<ipython-input-13-64005253ca23>\u001b[0m in \u001b[0;36m<module>\u001b[0;34m()\u001b[0m\n\u001b[1;32m      1\u001b[0m \u001b[0mmong\u001b[0m \u001b[0;34m=\u001b[0m \u001b[0mcrypto_df\u001b[0m\u001b[0;34m[\u001b[0m\u001b[0mcrypto_df\u001b[0m\u001b[0;34m[\u001b[0m\u001b[0;34m'Asset_ID'\u001b[0m\u001b[0;34m]\u001b[0m \u001b[0;34m==\u001b[0m \u001b[0;36m10\u001b[0m\u001b[0;34m]\u001b[0m\u001b[0;34m\u001b[0m\u001b[0;34m\u001b[0m\u001b[0m\n\u001b[0;32m----> 2\u001b[0;31m \u001b[0mmong\u001b[0m\u001b[0;34m[\u001b[0m\u001b[0;34m'Target'\u001b[0m\u001b[0;34m]\u001b[0m \u001b[0;34m=\u001b[0m \u001b[0mmong\u001b[0m\u001b[0;34m[\u001b[0m\u001b[0;34m[\u001b[0m\u001b[0;34m'Asset_ID'\u001b[0m\u001b[0;34m,\u001b[0m \u001b[0;34m'Target'\u001b[0m\u001b[0;34m]\u001b[0m\u001b[0;34m]\u001b[0m\u001b[0;34m.\u001b[0m\u001b[0mapply\u001b[0m\u001b[0;34m(\u001b[0m\u001b[0;32mlambda\u001b[0m \u001b[0mx\u001b[0m \u001b[0;34m:\u001b[0m \u001b[0masset_target_mean\u001b[0m\u001b[0;34m(\u001b[0m\u001b[0;34m*\u001b[0m\u001b[0mx\u001b[0m\u001b[0;34m)\u001b[0m\u001b[0;34m,\u001b[0m \u001b[0maxis\u001b[0m\u001b[0;34m=\u001b[0m\u001b[0;36m1\u001b[0m\u001b[0;34m)\u001b[0m\u001b[0;34m\u001b[0m\u001b[0;34m\u001b[0m\u001b[0m\n\u001b[0m",
            "\u001b[0;32m/usr/local/lib/python3.7/dist-packages/pandas/core/frame.py\u001b[0m in \u001b[0;36mapply\u001b[0;34m(self, func, axis, raw, result_type, args, **kwds)\u001b[0m\n\u001b[1;32m   7550\u001b[0m             \u001b[0mkwds\u001b[0m\u001b[0;34m=\u001b[0m\u001b[0mkwds\u001b[0m\u001b[0;34m,\u001b[0m\u001b[0;34m\u001b[0m\u001b[0;34m\u001b[0m\u001b[0m\n\u001b[1;32m   7551\u001b[0m         )\n\u001b[0;32m-> 7552\u001b[0;31m         \u001b[0;32mreturn\u001b[0m \u001b[0mop\u001b[0m\u001b[0;34m.\u001b[0m\u001b[0mget_result\u001b[0m\u001b[0;34m(\u001b[0m\u001b[0;34m)\u001b[0m\u001b[0;34m\u001b[0m\u001b[0;34m\u001b[0m\u001b[0m\n\u001b[0m\u001b[1;32m   7553\u001b[0m \u001b[0;34m\u001b[0m\u001b[0m\n\u001b[1;32m   7554\u001b[0m     \u001b[0;32mdef\u001b[0m \u001b[0mapplymap\u001b[0m\u001b[0;34m(\u001b[0m\u001b[0mself\u001b[0m\u001b[0;34m,\u001b[0m \u001b[0mfunc\u001b[0m\u001b[0;34m)\u001b[0m \u001b[0;34m->\u001b[0m \u001b[0;34m\"DataFrame\"\u001b[0m\u001b[0;34m:\u001b[0m\u001b[0;34m\u001b[0m\u001b[0;34m\u001b[0m\u001b[0m\n",
            "\u001b[0;32m/usr/local/lib/python3.7/dist-packages/pandas/core/apply.py\u001b[0m in \u001b[0;36mget_result\u001b[0;34m(self)\u001b[0m\n\u001b[1;32m    183\u001b[0m             \u001b[0;32mreturn\u001b[0m \u001b[0mself\u001b[0m\u001b[0;34m.\u001b[0m\u001b[0mapply_raw\u001b[0m\u001b[0;34m(\u001b[0m\u001b[0;34m)\u001b[0m\u001b[0;34m\u001b[0m\u001b[0;34m\u001b[0m\u001b[0m\n\u001b[1;32m    184\u001b[0m \u001b[0;34m\u001b[0m\u001b[0m\n\u001b[0;32m--> 185\u001b[0;31m         \u001b[0;32mreturn\u001b[0m \u001b[0mself\u001b[0m\u001b[0;34m.\u001b[0m\u001b[0mapply_standard\u001b[0m\u001b[0;34m(\u001b[0m\u001b[0;34m)\u001b[0m\u001b[0;34m\u001b[0m\u001b[0;34m\u001b[0m\u001b[0m\n\u001b[0m\u001b[1;32m    186\u001b[0m \u001b[0;34m\u001b[0m\u001b[0m\n\u001b[1;32m    187\u001b[0m     \u001b[0;32mdef\u001b[0m \u001b[0mapply_empty_result\u001b[0m\u001b[0;34m(\u001b[0m\u001b[0mself\u001b[0m\u001b[0;34m)\u001b[0m\u001b[0;34m:\u001b[0m\u001b[0;34m\u001b[0m\u001b[0;34m\u001b[0m\u001b[0m\n",
            "\u001b[0;32m/usr/local/lib/python3.7/dist-packages/pandas/core/apply.py\u001b[0m in \u001b[0;36mapply_standard\u001b[0;34m(self)\u001b[0m\n\u001b[1;32m    274\u001b[0m \u001b[0;34m\u001b[0m\u001b[0m\n\u001b[1;32m    275\u001b[0m     \u001b[0;32mdef\u001b[0m \u001b[0mapply_standard\u001b[0m\u001b[0;34m(\u001b[0m\u001b[0mself\u001b[0m\u001b[0;34m)\u001b[0m\u001b[0;34m:\u001b[0m\u001b[0;34m\u001b[0m\u001b[0;34m\u001b[0m\u001b[0m\n\u001b[0;32m--> 276\u001b[0;31m         \u001b[0mresults\u001b[0m\u001b[0;34m,\u001b[0m \u001b[0mres_index\u001b[0m \u001b[0;34m=\u001b[0m \u001b[0mself\u001b[0m\u001b[0;34m.\u001b[0m\u001b[0mapply_series_generator\u001b[0m\u001b[0;34m(\u001b[0m\u001b[0;34m)\u001b[0m\u001b[0;34m\u001b[0m\u001b[0;34m\u001b[0m\u001b[0m\n\u001b[0m\u001b[1;32m    277\u001b[0m \u001b[0;34m\u001b[0m\u001b[0m\n\u001b[1;32m    278\u001b[0m         \u001b[0;31m# wrap results\u001b[0m\u001b[0;34m\u001b[0m\u001b[0;34m\u001b[0m\u001b[0;34m\u001b[0m\u001b[0m\n",
            "\u001b[0;32m/usr/local/lib/python3.7/dist-packages/pandas/core/apply.py\u001b[0m in \u001b[0;36mapply_series_generator\u001b[0;34m(self)\u001b[0m\n\u001b[1;32m    303\u001b[0m                 \u001b[0;32mfor\u001b[0m \u001b[0mi\u001b[0m\u001b[0;34m,\u001b[0m \u001b[0mv\u001b[0m \u001b[0;32min\u001b[0m \u001b[0menumerate\u001b[0m\u001b[0;34m(\u001b[0m\u001b[0mseries_gen\u001b[0m\u001b[0;34m)\u001b[0m\u001b[0;34m:\u001b[0m\u001b[0;34m\u001b[0m\u001b[0;34m\u001b[0m\u001b[0m\n\u001b[1;32m    304\u001b[0m                     \u001b[0;31m# ignore SettingWithCopy here in case the user mutates\u001b[0m\u001b[0;34m\u001b[0m\u001b[0;34m\u001b[0m\u001b[0;34m\u001b[0m\u001b[0m\n\u001b[0;32m--> 305\u001b[0;31m                     \u001b[0mresults\u001b[0m\u001b[0;34m[\u001b[0m\u001b[0mi\u001b[0m\u001b[0;34m]\u001b[0m \u001b[0;34m=\u001b[0m \u001b[0mself\u001b[0m\u001b[0;34m.\u001b[0m\u001b[0mf\u001b[0m\u001b[0;34m(\u001b[0m\u001b[0mv\u001b[0m\u001b[0;34m)\u001b[0m\u001b[0;34m\u001b[0m\u001b[0;34m\u001b[0m\u001b[0m\n\u001b[0m\u001b[1;32m    306\u001b[0m                     \u001b[0;32mif\u001b[0m \u001b[0misinstance\u001b[0m\u001b[0;34m(\u001b[0m\u001b[0mresults\u001b[0m\u001b[0;34m[\u001b[0m\u001b[0mi\u001b[0m\u001b[0;34m]\u001b[0m\u001b[0;34m,\u001b[0m \u001b[0mABCSeries\u001b[0m\u001b[0;34m)\u001b[0m\u001b[0;34m:\u001b[0m\u001b[0;34m\u001b[0m\u001b[0;34m\u001b[0m\u001b[0m\n\u001b[1;32m    307\u001b[0m                         \u001b[0;31m# If we have a view on v, we need to make a copy because\u001b[0m\u001b[0;34m\u001b[0m\u001b[0;34m\u001b[0m\u001b[0;34m\u001b[0m\u001b[0m\n",
            "\u001b[0;32m<ipython-input-13-64005253ca23>\u001b[0m in \u001b[0;36m<lambda>\u001b[0;34m(x)\u001b[0m\n\u001b[1;32m      1\u001b[0m \u001b[0mmong\u001b[0m \u001b[0;34m=\u001b[0m \u001b[0mcrypto_df\u001b[0m\u001b[0;34m[\u001b[0m\u001b[0mcrypto_df\u001b[0m\u001b[0;34m[\u001b[0m\u001b[0;34m'Asset_ID'\u001b[0m\u001b[0;34m]\u001b[0m \u001b[0;34m==\u001b[0m \u001b[0;36m10\u001b[0m\u001b[0;34m]\u001b[0m\u001b[0;34m\u001b[0m\u001b[0;34m\u001b[0m\u001b[0m\n\u001b[0;32m----> 2\u001b[0;31m \u001b[0mmong\u001b[0m\u001b[0;34m[\u001b[0m\u001b[0;34m'Target'\u001b[0m\u001b[0;34m]\u001b[0m \u001b[0;34m=\u001b[0m \u001b[0mmong\u001b[0m\u001b[0;34m[\u001b[0m\u001b[0;34m[\u001b[0m\u001b[0;34m'Asset_ID'\u001b[0m\u001b[0;34m,\u001b[0m \u001b[0;34m'Target'\u001b[0m\u001b[0;34m]\u001b[0m\u001b[0;34m]\u001b[0m\u001b[0;34m.\u001b[0m\u001b[0mapply\u001b[0m\u001b[0;34m(\u001b[0m\u001b[0;32mlambda\u001b[0m \u001b[0mx\u001b[0m \u001b[0;34m:\u001b[0m \u001b[0masset_target_mean\u001b[0m\u001b[0;34m(\u001b[0m\u001b[0;34m*\u001b[0m\u001b[0mx\u001b[0m\u001b[0;34m)\u001b[0m\u001b[0;34m,\u001b[0m \u001b[0maxis\u001b[0m\u001b[0;34m=\u001b[0m\u001b[0;36m1\u001b[0m\u001b[0;34m)\u001b[0m\u001b[0;34m\u001b[0m\u001b[0;34m\u001b[0m\u001b[0m\n\u001b[0m",
            "\u001b[0;32m<ipython-input-12-94c15e449af2>\u001b[0m in \u001b[0;36masset_target_mean\u001b[0;34m(Asset_ID, Target)\u001b[0m\n\u001b[1;32m     48\u001b[0m       \u001b[0masset_mean\u001b[0m \u001b[0;34m=\u001b[0m \u001b[0masset_mean_dict\u001b[0m\u001b[0;34m[\u001b[0m\u001b[0;36m4\u001b[0m\u001b[0;34m]\u001b[0m\u001b[0;34m\u001b[0m\u001b[0;34m\u001b[0m\u001b[0m\n\u001b[1;32m     49\u001b[0m \u001b[0;34m\u001b[0m\u001b[0m\n\u001b[0;32m---> 50\u001b[0;31m   \u001b[0;32mreturn\u001b[0m \u001b[0masset_mean\u001b[0m\u001b[0;34m\u001b[0m\u001b[0;34m\u001b[0m\u001b[0m\n\u001b[0m",
            "\u001b[0;31mUnboundLocalError\u001b[0m: local variable 'asset_mean' referenced before assignment"
          ]
        }
      ]
    },
    {
      "cell_type": "code",
      "metadata": {
        "colab": {
          "base_uri": "https://localhost:8080/",
          "height": 131
        },
        "id": "t5qHR1zcgi2W",
        "outputId": "a90c58db-6798-47cd-dd97-60ff35b98533"
      },
      "source": [
        "crypto_df['Target'] = crypto_df[['Asset_ID', 'Target']].apply(lambda x : asset_target_mean(*x) if x.isna() = True, axis=1)"
      ],
      "execution_count": 34,
      "outputs": [
        {
          "output_type": "error",
          "ename": "SyntaxError",
          "evalue": "ignored",
          "traceback": [
            "\u001b[0;36m  File \u001b[0;32m\"<ipython-input-34-f785d4689deb>\"\u001b[0;36m, line \u001b[0;32m1\u001b[0m\n\u001b[0;31m    crypto_df['Target'] = crypto_df[['Asset_ID', 'Target']].apply(lambda x : asset_target_mean(*x) if x.isna() = True, axis=1)\u001b[0m\n\u001b[0m                                                                                                               ^\u001b[0m\n\u001b[0;31mSyntaxError\u001b[0m\u001b[0;31m:\u001b[0m invalid syntax\n"
          ]
        }
      ]
    },
    {
      "cell_type": "code",
      "metadata": {
        "colab": {
          "base_uri": "https://localhost:8080/"
        },
        "id": "kiDyWY8NgzhK",
        "outputId": "ecd742e9-9fe0-4769-a7b8-7ce27666b06f"
      },
      "source": [
        "asset_mean_dict"
      ],
      "execution_count": 29,
      "outputs": [
        {
          "output_type": "execute_result",
          "data": {
            "text/plain": [
              "{0: 3.1839348870061344e-05,\n",
              " 1: -1.5599925745642943e-06,\n",
              " 2: -4.636348354151073e-06,\n",
              " 3: 1.7660349100923204e-06,\n",
              " 4: 4.23621783365305e-05,\n",
              " 5: -1.235017783129087e-06,\n",
              " 6: -1.5690491770938035e-06,\n",
              " 7: 3.745600992189751e-05,\n",
              " 8: 1.6199659292060184e-05,\n",
              " 9: -1.381605575862578e-05,\n",
              " 10: -2.475019116877511e-06,\n",
              " 11: 7.652282638036138e-06,\n",
              " 12: -1.0203574027402607e-05,\n",
              " 13: 9.131855947045975e-06}"
            ]
          },
          "metadata": {},
          "execution_count": 29
        }
      ]
    },
    {
      "cell_type": "markdown",
      "metadata": {
        "id": "Hx-ODmghII0e"
      },
      "source": [
        "### EDA\n",
        "#### Data distribution"
      ]
    },
    {
      "cell_type": "code",
      "metadata": {
        "colab": {
          "base_uri": "https://localhost:8080/",
          "height": 520
        },
        "id": "rymg4KR3II0f",
        "outputId": "0f56a4ce-34c6-4b02-9e8a-db20534c1e72"
      },
      "source": [
        "crypto_df.groupby('Asset_ID').count()"
      ],
      "execution_count": 5,
      "outputs": [
        {
          "output_type": "execute_result",
          "data": {
            "text/html": [
              "<div>\n",
              "<style scoped>\n",
              "    .dataframe tbody tr th:only-of-type {\n",
              "        vertical-align: middle;\n",
              "    }\n",
              "\n",
              "    .dataframe tbody tr th {\n",
              "        vertical-align: top;\n",
              "    }\n",
              "\n",
              "    .dataframe thead th {\n",
              "        text-align: right;\n",
              "    }\n",
              "</style>\n",
              "<table border=\"1\" class=\"dataframe\">\n",
              "  <thead>\n",
              "    <tr style=\"text-align: right;\">\n",
              "      <th></th>\n",
              "      <th>timestamp</th>\n",
              "      <th>Count</th>\n",
              "      <th>Open</th>\n",
              "      <th>High</th>\n",
              "      <th>Low</th>\n",
              "      <th>Close</th>\n",
              "      <th>Volume</th>\n",
              "      <th>VWAP</th>\n",
              "      <th>Target</th>\n",
              "    </tr>\n",
              "    <tr>\n",
              "      <th>Asset_ID</th>\n",
              "      <th></th>\n",
              "      <th></th>\n",
              "      <th></th>\n",
              "      <th></th>\n",
              "      <th></th>\n",
              "      <th></th>\n",
              "      <th></th>\n",
              "      <th></th>\n",
              "      <th></th>\n",
              "    </tr>\n",
              "  </thead>\n",
              "  <tbody>\n",
              "    <tr>\n",
              "      <th>0</th>\n",
              "      <td>1942619</td>\n",
              "      <td>1942619</td>\n",
              "      <td>1942619</td>\n",
              "      <td>1942619</td>\n",
              "      <td>1942619</td>\n",
              "      <td>1942619</td>\n",
              "      <td>1942619</td>\n",
              "      <td>1942619</td>\n",
              "      <td>1929204</td>\n",
              "    </tr>\n",
              "    <tr>\n",
              "      <th>1</th>\n",
              "      <td>1956282</td>\n",
              "      <td>1956282</td>\n",
              "      <td>1956282</td>\n",
              "      <td>1956282</td>\n",
              "      <td>1956282</td>\n",
              "      <td>1956282</td>\n",
              "      <td>1956282</td>\n",
              "      <td>1956282</td>\n",
              "      <td>1955978</td>\n",
              "    </tr>\n",
              "    <tr>\n",
              "      <th>2</th>\n",
              "      <td>1953537</td>\n",
              "      <td>1953537</td>\n",
              "      <td>1953537</td>\n",
              "      <td>1953537</td>\n",
              "      <td>1953537</td>\n",
              "      <td>1953537</td>\n",
              "      <td>1953537</td>\n",
              "      <td>1953537</td>\n",
              "      <td>1948676</td>\n",
              "    </tr>\n",
              "    <tr>\n",
              "      <th>3</th>\n",
              "      <td>1791867</td>\n",
              "      <td>1791867</td>\n",
              "      <td>1791867</td>\n",
              "      <td>1791867</td>\n",
              "      <td>1791867</td>\n",
              "      <td>1791867</td>\n",
              "      <td>1791867</td>\n",
              "      <td>1791867</td>\n",
              "      <td>1773136</td>\n",
              "    </tr>\n",
              "    <tr>\n",
              "      <th>4</th>\n",
              "      <td>1156866</td>\n",
              "      <td>1156866</td>\n",
              "      <td>1156866</td>\n",
              "      <td>1156866</td>\n",
              "      <td>1156866</td>\n",
              "      <td>1156866</td>\n",
              "      <td>1156866</td>\n",
              "      <td>1156866</td>\n",
              "      <td>1011892</td>\n",
              "    </tr>\n",
              "    <tr>\n",
              "      <th>5</th>\n",
              "      <td>1955140</td>\n",
              "      <td>1955140</td>\n",
              "      <td>1955140</td>\n",
              "      <td>1955140</td>\n",
              "      <td>1955140</td>\n",
              "      <td>1955140</td>\n",
              "      <td>1955140</td>\n",
              "      <td>1955140</td>\n",
              "      <td>1952838</td>\n",
              "    </tr>\n",
              "    <tr>\n",
              "      <th>6</th>\n",
              "      <td>1956200</td>\n",
              "      <td>1956200</td>\n",
              "      <td>1956200</td>\n",
              "      <td>1956200</td>\n",
              "      <td>1956200</td>\n",
              "      <td>1956200</td>\n",
              "      <td>1956200</td>\n",
              "      <td>1956200</td>\n",
              "      <td>1955860</td>\n",
              "    </tr>\n",
              "    <tr>\n",
              "      <th>7</th>\n",
              "      <td>1951127</td>\n",
              "      <td>1951127</td>\n",
              "      <td>1951127</td>\n",
              "      <td>1951127</td>\n",
              "      <td>1951127</td>\n",
              "      <td>1951127</td>\n",
              "      <td>1951127</td>\n",
              "      <td>1951127</td>\n",
              "      <td>1941801</td>\n",
              "    </tr>\n",
              "    <tr>\n",
              "      <th>8</th>\n",
              "      <td>1592071</td>\n",
              "      <td>1592071</td>\n",
              "      <td>1592071</td>\n",
              "      <td>1592071</td>\n",
              "      <td>1592071</td>\n",
              "      <td>1592071</td>\n",
              "      <td>1592071</td>\n",
              "      <td>1592071</td>\n",
              "      <td>1398965</td>\n",
              "    </tr>\n",
              "    <tr>\n",
              "      <th>9</th>\n",
              "      <td>1956030</td>\n",
              "      <td>1956030</td>\n",
              "      <td>1956030</td>\n",
              "      <td>1956030</td>\n",
              "      <td>1956030</td>\n",
              "      <td>1956030</td>\n",
              "      <td>1956030</td>\n",
              "      <td>1956030</td>\n",
              "      <td>1955509</td>\n",
              "    </tr>\n",
              "    <tr>\n",
              "      <th>10</th>\n",
              "      <td>670497</td>\n",
              "      <td>670497</td>\n",
              "      <td>670497</td>\n",
              "      <td>670497</td>\n",
              "      <td>670497</td>\n",
              "      <td>670497</td>\n",
              "      <td>670497</td>\n",
              "      <td>670488</td>\n",
              "      <td>630472</td>\n",
              "    </tr>\n",
              "    <tr>\n",
              "      <th>11</th>\n",
              "      <td>1701261</td>\n",
              "      <td>1701261</td>\n",
              "      <td>1701261</td>\n",
              "      <td>1701261</td>\n",
              "      <td>1701261</td>\n",
              "      <td>1701261</td>\n",
              "      <td>1701261</td>\n",
              "      <td>1701261</td>\n",
              "      <td>1461658</td>\n",
              "    </tr>\n",
              "    <tr>\n",
              "      <th>12</th>\n",
              "      <td>1778749</td>\n",
              "      <td>1778749</td>\n",
              "      <td>1778749</td>\n",
              "      <td>1778749</td>\n",
              "      <td>1778749</td>\n",
              "      <td>1778749</td>\n",
              "      <td>1778749</td>\n",
              "      <td>1778749</td>\n",
              "      <td>1716933</td>\n",
              "    </tr>\n",
              "    <tr>\n",
              "      <th>13</th>\n",
              "      <td>1874560</td>\n",
              "      <td>1874560</td>\n",
              "      <td>1874560</td>\n",
              "      <td>1874560</td>\n",
              "      <td>1874560</td>\n",
              "      <td>1874560</td>\n",
              "      <td>1874560</td>\n",
              "      <td>1874560</td>\n",
              "      <td>1853546</td>\n",
              "    </tr>\n",
              "  </tbody>\n",
              "</table>\n",
              "</div>"
            ],
            "text/plain": [
              "          timestamp    Count     Open  ...   Volume     VWAP   Target\n",
              "Asset_ID                               ...                           \n",
              "0           1942619  1942619  1942619  ...  1942619  1942619  1929204\n",
              "1           1956282  1956282  1956282  ...  1956282  1956282  1955978\n",
              "2           1953537  1953537  1953537  ...  1953537  1953537  1948676\n",
              "3           1791867  1791867  1791867  ...  1791867  1791867  1773136\n",
              "4           1156866  1156866  1156866  ...  1156866  1156866  1011892\n",
              "5           1955140  1955140  1955140  ...  1955140  1955140  1952838\n",
              "6           1956200  1956200  1956200  ...  1956200  1956200  1955860\n",
              "7           1951127  1951127  1951127  ...  1951127  1951127  1941801\n",
              "8           1592071  1592071  1592071  ...  1592071  1592071  1398965\n",
              "9           1956030  1956030  1956030  ...  1956030  1956030  1955509\n",
              "10           670497   670497   670497  ...   670497   670488   630472\n",
              "11          1701261  1701261  1701261  ...  1701261  1701261  1461658\n",
              "12          1778749  1778749  1778749  ...  1778749  1778749  1716933\n",
              "13          1874560  1874560  1874560  ...  1874560  1874560  1853546\n",
              "\n",
              "[14 rows x 9 columns]"
            ]
          },
          "metadata": {},
          "execution_count": 5
        }
      ]
    },
    {
      "cell_type": "markdown",
      "metadata": {
        "id": "DnnabYyqK4bM"
      },
      "source": [
        "#### Correlation between assets"
      ]
    },
    {
      "cell_type": "code",
      "metadata": {
        "id": "DkVoJJ5OK8_x"
      },
      "source": [
        ""
      ],
      "execution_count": null,
      "outputs": []
    }
  ]
}